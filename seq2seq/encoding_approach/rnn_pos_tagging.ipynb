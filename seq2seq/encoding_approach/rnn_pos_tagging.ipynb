{
 "cells": [
  {
   "cell_type": "markdown",
   "metadata": {},
   "source": [
    "# 1. 설계\n",
    "1. 데이터 준비\n",
    "    - 개념 설명을 위한 하드코딩된 예시 샘플\n",
    "    - 간단한 문장 및 그에 대한 품사 태그 정의\n",
    "2. 어휘 사전(Vocabulary) 및 태그 사전(Tab Vocabulary) 구성\n",
    "    - 토큰 -> 숫자 변환을 위한 word2index, index2word 매핑 생성\n",
    "    - 품사 태그 - 숫자 매핑(e.g, tag2index, index2tag)\n",
    "3. Pytorch Dataset & DataLoader 정의\n",
    "    - Dataset 클래스 활용, 샘플(토큰 시퀀스) 및 정답(품사 태그 시퀀스) 반환\n",
    "    - DataLoader 활용, 배치(batch) 단위 데이터 처리\n",
    "4. 모델(Encoder-Only RNN) 설계\n",
    "    - Embedding Layer: 입력 단어 임베딩 벡터 변환\n",
    "    - RNN: 시퀀스 정보 인코딩\n",
    "    - Fully-Connected Layer: RNN의 은닉 상태(hidden state) 출력을 받아 각 시점(time-step)마다 품사 태그 예측\n",
    "    - 특징: 일반적인 seq2seq 모델(Encoder-Decoder)와 달리, Encoding-only 접근에서는 인코더에서 바로 분류 수행\n",
    "5. 학습(Training) 루프\n",
    "    - 손실 함수(loss function): 토큰 단위 교차 엔토로피 손실\n",
    "    - 옵티마이저(optimizer): Adam, SGD 등\n",
    "    - Epoch마다 전체 데이터 반복, 예측-손실 계산-역전파-가중치 갱신 수행\n",
    "6. 추론(Inference) 및 성능 확인\n",
    "    - 학습된 모델의 샘플 데이터 예측 결과 확인"
   ]
  },
  {
   "cell_type": "markdown",
   "metadata": {},
   "source": [
    "# 2. 코드 구현 예시"
   ]
  },
  {
   "cell_type": "code",
   "execution_count": null,
   "metadata": {},
   "outputs": [
    {
     "ename": "",
     "evalue": "",
     "output_type": "error",
     "traceback": [
      "\u001b[1;31mPython 환경 'dl-pytorch (Python -1.-1.-1)'을(를) 더 이상 사용할 수 없도록 하여 커널을 시작하지 못했습니다. 다른 커널을 선택하거나 Python 환경 목록을 새로 고치는 것이 좋습니다."
     ]
    }
   ],
   "source": [
    "# 필요 라이브러리 호출\n",
    "import torch\n",
    "import torch.nn as nn\n",
    "import torch.optim as optim\n",
    "from torch.utils.data import Dataset, DataLoader"
   ]
  },
  {
   "cell_type": "code",
   "execution_count": null,
   "metadata": {},
   "outputs": [],
   "source": [
    "# 1. 예시 데이터 준비\n",
    "sentences = [\n",
    "    [\"나는\", \"밥을\", \"먹는다\"],\n",
    "    [\"너는\", \"공부를\", \"한다\"],\n",
    "    [\"그녀는\", \"책을\", \"읽는다\"],\n",
    "],\n",
    "\n",
    "pos_tags = [\n",
    "    [\"PRON\", \"NOUN\", \"VERB\"],\n",
    "    [\"PRON\", \"NOUN\", \"VERB\"],\n",
    "    [\"PRON\", \"NOUN\", \"VERB\"],\n",
    "]"
   ]
  },
  {
   "cell_type": "code",
   "execution_count": null,
   "metadata": {},
   "outputs": [],
   "source": [
    "# 2. Vocabulary 생성\n",
    "word_list = set([word for sent in sentences for word in sent])\n",
    "word_list = list(word_list)\n",
    "word2index = {w: i+1 for i, w in enumerate(word_list)}\n",
    "index2word = {i: w for w, i in word2index.items()}\n",
    "\n",
    "tag_list = set([tag for tags in pos_tags for tag in tags])\n",
    "tag_list = list(tag_list)\n",
    "tag2index = {t: i for i, t in enumerate(tag_list)}\n",
    "index2tag = {i: t for t, i in tag2index.items()}\n",
    "\n",
    "vocab_size = len(word2index) + 1\n",
    "tag_size = len(tag2index)\n",
    "\n",
    "print(\"Word Vocabulary:\", word2index)\n",
    "print(\"Tag Vocabulary:\", tag2index)"
   ]
  },
  {
   "cell_type": "code",
   "execution_count": null,
   "metadata": {},
   "outputs": [],
   "source": [
    "# 3. Dataset 및 DataLoader 생성\n",
    "def encode_sentence(sentence):\n",
    "    \"\"\"\n",
    "    단어 사전 활용, 문장 -> 숫자 리스트 변환\n",
    "    예: [\"나는\", \"밥을\", \"먹는다\"] -> [2, 5, 1]\n",
    "    \"\"\"\n",
    "    return [word2index[w] for w in sentence]\n",
    "\n",
    "def encode_tag(tags):\n",
    "    \"\"\"\n",
    "    태그 사전 활용, 태그 -> 숫자 리스트 변환\n",
    "    예: [\"PRON\", \"NOUN\", \"VERB\"] -> [1, 0, 2]\n",
    "    \"\"\"\n",
    "    return [tag2index[t] for t in tags]\n",
    "\n",
    "class PosDataset(Dataset):\n",
    "    def __init__(self, sentences, pos_tags):\n",
    "        super(PosDataset, self).__init__()\n",
    "        self.sentences = sentences\n",
    "        self.pos_tags = pos_tags\n",
    "\n",
    "        # 미리 숫자 인코딩\n",
    "        self.encoded_sentences = [encode_sentence(sent) for sent in sentences]\n",
    "        self.encoded_tags = [encode_tag(tags) for tags in pos_tags]\n",
    "\n",
    "    def __len__(self):\n",
    "        return len(self.sentences)\n",
    "    \n",
    "    def __getitem__(self, idx):\n",
    "        # 각 샘플을 (입력 시퀀스, 타깃 시퀀스) 형태 변환\n",
    "        return (\n",
    "            torch.tensor(self.encoded_sentences[idx], dtype=torch.long),\n",
    "            torch.tensor(self.encoded_tags[idx], dtype=torch.long)\n",
    "        )"
   ]
  }
 ],
 "metadata": {
  "kernelspec": {
   "display_name": "dl-pytorch",
   "language": "python",
   "name": "python3"
  },
  "language_info": {
   "name": "python",
   "version": "undefined.undefined.undefined"
  }
 },
 "nbformat": 4,
 "nbformat_minor": 2
}
